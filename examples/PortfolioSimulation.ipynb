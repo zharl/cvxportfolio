{
 "cells": [
  {
   "cell_type": "code",
   "execution_count": 1,
   "metadata": {},
   "outputs": [],
   "source": [
    "import os\n",
    "import sys\n",
    "sys.path.insert(0, os.path.abspath('..'))"
   ]
  },
  {
   "cell_type": "code",
   "execution_count": 2,
   "metadata": {},
   "outputs": [],
   "source": [
    "%load_ext autoreload\n",
    "%autoreload 2\n",
    "%matplotlib inline\n",
    "\n",
    "import pandas as pd\n",
    "import numpy as np\n",
    "import matplotlib.pyplot as plt\n",
    "import cvxportfolio as cp\n",
    "\n",
    "plotdir = '../portfolio/plots/'\n",
    "datadir='../data/'\n",
    "\n",
    "sigmas=pd.read_csv(datadir+'sigmas.csv.gz',index_col=0,parse_dates=[0]).iloc[:,:-1]\n",
    "returns=pd.read_csv(datadir+'returns.csv.gz',index_col=0,parse_dates=[0])\n",
    "volumes=pd.read_csv(datadir+'volumes.csv.gz',index_col=0,parse_dates=[0]).iloc[:,:-1]\n",
    "\n",
    "w_b = pd.Series(index=returns.columns, data=1)\n",
    "w_b.USDOLLAR = 0.\n",
    "w_b/=sum(w_b)\n",
    "\n",
    "start_t=\"2012-01-01\"\n",
    "end_t=\"2016-12-31\""
   ]
  },
  {
   "cell_type": "markdown",
   "metadata": {},
   "source": [
    "## Simulations"
   ]
  },
  {
   "cell_type": "code",
   "execution_count": 3,
   "metadata": {},
   "outputs": [],
   "source": [
    "simulated_tcost = cp.TcostModel(half_spread=0.0005/2., nonlin_coeff=1., sigma=sigmas, volume=volumes)\n",
    "simulated_hcost = cp.HcostModel(borrow_costs=0.0001)\n",
    "simulator = cp.MarketSimulator(returns, costs=[simulated_tcost, simulated_hcost],\n",
    "                               market_volumes=volumes, cash_key='USDOLLAR')\n",
    "\n",
    "policies = [cp.PeriodicRebalance(target=w_b, period=p) for p in ['day', 'week', 'month', 'quarter', 'year']]\n",
    "policies.append(cp.Hold())\n",
    "\n",
    "res = pd.DataFrame(index=['Daily','Weekly','Monthly','Quarterly','Annually','Hold'])\n",
    "for label, fund_val in [('\\$100M',1E8), ('\\$10B',1E10)]:\n",
    "    res[label] = simulator.run_multiple_backtest(fund_val*w_b, start_time=start_t, end_time=end_t, \n",
    "                                                 policies=policies, parallel=True)"
   ]
  },
  {
   "cell_type": "markdown",
   "metadata": {},
   "source": [
    "## Results "
   ]
  },
  {
   "cell_type": "code",
   "execution_count": 21,
   "metadata": {},
   "outputs": [
    {
     "name": "stdout",
     "output_type": "stream",
     "text": [
      "\\begin{tabular}{llllll}\n",
      "\\toprule\n",
      "       &       & Active return & Active risk & Trans. costs & Turnover \\\\\n",
      "\\midrule\n",
      "\\$100M & Daily &        -0.07\\% &       0.00\\% &        0.07\\% &  220.53\\% \\\\\n",
      "       & Weekly &        -0.07\\% &       0.09\\% &        0.04\\% &  105.67\\% \\\\\n",
      "       & Monthly &        -0.12\\% &       0.21\\% &        0.02\\% &   52.71\\% \\\\\n",
      "       & Quarterly &        -0.11\\% &       0.35\\% &        0.01\\% &   29.98\\% \\\\\n",
      "       & Annually &        -0.10\\% &       0.63\\% &        0.01\\% &   12.54\\% \\\\\n",
      "       & Hold &        -0.36\\% &       1.53\\% &        0.00\\% &    0.00\\% \\\\\n",
      "\\$10B & Daily &        -0.25\\% &       0.01\\% &        0.25\\% &  220.53\\% \\\\\n",
      "       & Weekly &        -0.19\\% &       0.09\\% &        0.16\\% &  105.67\\% \\\\\n",
      "       & Monthly &        -0.20\\% &       0.21\\% &        0.10\\% &   52.71\\% \\\\\n",
      "       & Quarterly &        -0.17\\% &       0.35\\% &        0.07\\% &   29.99\\% \\\\\n",
      "       & Annually &        -0.13\\% &       0.63\\% &        0.04\\% &   12.54\\% \\\\\n",
      "       & Hold &        -0.36\\% &       1.53\\% &        0.00\\% &    0.00\\% \\\\\n",
      "\\bottomrule\n",
      "\\end{tabular}\n",
      "\n"
     ]
    }
   ],
   "source": [
    "used_returns = returns.loc[(returns.index>=start_t)&(returns.index<=end_t)]\n",
    "benchmark_returns = pd.Series(index=used_returns.index, data=np.dot(used_returns.values, w_b.values))\n",
    "\n",
    "table=pd.DataFrame()\n",
    "table[r'Active return']=res.applymap(lambda res: 100*250*(res.returns - benchmark_returns).mean()).unstack()\n",
    "table[r'Active risk']= \\\n",
    "    res.applymap(lambda res: np.std(benchmark_returns - res.returns)*100*np.sqrt(250)).unstack()\n",
    "table[r'Trans. costs']=\\\n",
    "    res.applymap(lambda res: (res.simulator_TcostModel.sum(1)/res.v).mean() * 100 * 250).unstack()\n",
    "table[r'Turnover']= \\\n",
    "    res.applymap(lambda res: res.turnover.mean()*100.*250.).unstack()\n",
    "\n",
    "\n",
    "table_print=pd.DataFrame(table,copy=True)\n",
    "table_print.ix[:,:]=table_print.ix[:,:].applymap(lambda x: r'%.2f%%'%x )\n",
    "print(table_print.to_latex(float_format='%.2f', escape=False).replace('%',r'\\%'))"
   ]
  },
  {
   "cell_type": "markdown",
   "metadata": {},
   "source": [
    "# Plots "
   ]
  },
  {
   "cell_type": "code",
   "execution_count": 22,
   "metadata": {},
   "outputs": [
    {
     "data": {
      "image/png": "[encoded data removed]",
      "text/plain": [
       "<matplotlib.figure.Figure at 0x7fd17220cb70>"
      ]
     },
     "metadata": {},
     "output_type": "display_data"
    }
   ],
   "source": [
    "plt.figure(figsize=(8,5))\n",
    "for v1 in table.index.levels[0][:]:\n",
    "    x = table.loc[v1]['Trans. costs']\n",
    "    y = table.loc[v1]['Active risk']\n",
    "    plt.plot(np.array(x),np.array(y), 'o-', label='$%s\\mathrm{%s}$'%(v1[:-1],v1[-1:]))\n",
    "plt.legend(loc='upper right')\n",
    "plt.xlabel('Transaction cost')\n",
    "plt.ylabel('Risk')\n",
    "\n",
    "import matplotlib.ticker as mtick\n",
    "ax = plt.gca()\n",
    "ax.xaxis.set_major_formatter(mtick.FormatStrFormatter('%.2f%%'))\n",
    "ax.yaxis.set_major_formatter(mtick.FormatStrFormatter('%.1f%%'))\n",
    "#plt.savefig(plotdir+'basic_frontier.png')"
   ]
  }
 ],
 "metadata": {
  "anaconda-cloud": {},
  "hide_input": false,
  "kernelspec": {
   "display_name": "Python 3",
   "language": "python",
   "name": "python3"
  },
  "language_info": {
   "codemirror_mode": {
    "name": "ipython",
    "version": 3
   },
   "file_extension": ".py",
   "mimetype": "text/x-python",
   "name": "python",
   "nbconvert_exporter": "python",
   "pygments_lexer": "ipython3",
   "version": "3.6.6"
  },
  "latex_envs": {
   "LaTeX_envs_menu_present": true,
   "autocomplete": false,
   "bibliofile": "biblio.bib",
   "cite_by": "apalike",
   "current_citInitial": 1,
   "eqLabelWithNumbers": true,
   "eqNumInitial": 1,
   "hotkeys": {
    "equation": "Ctrl-E",
    "itemize": "Ctrl-I"
   },
   "labels_anchors": false,
   "latex_user_defs": false,
   "report_style_numbering": false,
   "user_envs_cfg": false
  },
  "toc": {
   "nav_menu": {},
   "number_sections": true,
   "sideBar": true,
   "skip_h1_title": false,
   "toc_cell": false,
   "toc_position": {},
   "toc_section_display": "block",
   "toc_window_display": false
  }
 },
 "nbformat": 4,
 "nbformat_minor": 2
}
